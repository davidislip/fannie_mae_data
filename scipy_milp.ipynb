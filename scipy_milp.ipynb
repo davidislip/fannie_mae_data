{
  "nbformat": 4,
  "nbformat_minor": 0,
  "metadata": {
    "colab": {
      "provenance": [],
      "authorship_tag": "ABX9TyNbAxqQbdsQdQ8umf9YcEA7",
      "include_colab_link": true
    },
    "kernelspec": {
      "name": "python3",
      "display_name": "Python 3"
    },
    "language_info": {
      "name": "python"
    }
  },
  "cells": [
    {
      "cell_type": "markdown",
      "metadata": {
        "id": "view-in-github",
        "colab_type": "text"
      },
      "source": [
        "<a href=\"https://colab.research.google.com/github/davidislip/fannie_mae_data/blob/main/scipy_milp.ipynb\" target=\"_parent\"><img src=\"https://colab.research.google.com/assets/colab-badge.svg\" alt=\"Open In Colab\"/></a>"
      ]
    },
    {
      "cell_type": "code",
      "source": [
        "!pip install scipy --upgrade\n"
      ],
      "metadata": {
        "colab": {
          "base_uri": "https://localhost:8080/"
        },
        "id": "o2M2N22gUsKT",
        "outputId": "2a30b43e-52b5-4b9a-bfff-352d5447f4f3"
      },
      "execution_count": 3,
      "outputs": [
        {
          "output_type": "stream",
          "name": "stdout",
          "text": [
            "Requirement already satisfied: scipy in /usr/local/lib/python3.10/dist-packages (1.13.1)\n",
            "Collecting scipy\n",
            "  Downloading scipy-1.14.1-cp310-cp310-manylinux_2_17_x86_64.manylinux2014_x86_64.whl.metadata (60 kB)\n",
            "\u001b[2K     \u001b[90m━━━━━━━━━━━━━━━━━━━━━━━━━━━━━━━━━━━━━━━━\u001b[0m \u001b[32m60.8/60.8 kB\u001b[0m \u001b[31m1.1 MB/s\u001b[0m eta \u001b[36m0:00:00\u001b[0m\n",
            "\u001b[?25hRequirement already satisfied: numpy<2.3,>=1.23.5 in /usr/local/lib/python3.10/dist-packages (from scipy) (1.26.4)\n",
            "Downloading scipy-1.14.1-cp310-cp310-manylinux_2_17_x86_64.manylinux2014_x86_64.whl (41.2 MB)\n",
            "\u001b[2K   \u001b[90m━━━━━━━━━━━━━━━━━━━━━━━━━━━━━━━━━━━━━━━━\u001b[0m \u001b[32m41.2/41.2 MB\u001b[0m \u001b[31m18.7 MB/s\u001b[0m eta \u001b[36m0:00:00\u001b[0m\n",
            "\u001b[?25hInstalling collected packages: scipy\n",
            "  Attempting uninstall: scipy\n",
            "    Found existing installation: scipy 1.13.1\n",
            "    Uninstalling scipy-1.13.1:\n",
            "      Successfully uninstalled scipy-1.13.1\n",
            "\u001b[31mERROR: pip's dependency resolver does not currently take into account all the packages that are installed. This behaviour is the source of the following dependency conflicts.\n",
            "gensim 4.3.3 requires scipy<1.14.0,>=1.7.0, but you have scipy 1.14.1 which is incompatible.\u001b[0m\u001b[31m\n",
            "\u001b[0mSuccessfully installed scipy-1.14.1\n"
          ]
        }
      ]
    },
    {
      "cell_type": "code",
      "execution_count": 8,
      "metadata": {
        "colab": {
          "base_uri": "https://localhost:8080/"
        },
        "id": "wvCSapUTUQmr",
        "outputId": "4699915a-911b-458f-d11e-3e9c34f22723"
      },
      "outputs": [
        {
          "output_type": "stream",
          "name": "stdout",
          "text": [
            "Optimal solution: [5. 0. 3.]\n",
            "Objective value: -14.0\n"
          ]
        }
      ],
      "source": [
        "from scipy.optimize import milp, Bounds, LinearConstraint\n",
        "from scipy.sparse import csr_matrix\n",
        "import numpy as np\n",
        "\n",
        "# Define the objective coefficients (for minimization)\n",
        "c = np.array([-1, -2, -3])  # Objective function: maximize x1 + 2*x2 + 3*x3\n",
        "\n",
        "# Define integrality (True for integer variables, False for continuous variables)\n",
        "integrality = np.array([True, True, False])\n",
        "\n",
        "# Define the bounds for the variables\n",
        "bounds = Bounds([0, 0, 0], [np.inf, np.inf, np.inf])\n",
        "\n",
        "# Define the sparse constraint matrix (Ax <= b)\n",
        "A = csr_matrix([\n",
        "    [1, 1, 0],  # First constraint: x1 + x2 <= 5\n",
        "    [0, 1, 1]   # Second constraint: x2 + x3 <= 3\n",
        "])\n",
        "\n",
        "# A = np.array([\n",
        "#     [1, 1, 0],  # First constraint: x1 + x2 <= 5\n",
        "#     [0, 1, 1]   # Second constraint: x2 + x3 <= 3\n",
        "# ])\n",
        "b = np.array([5, 3])\n",
        "\n",
        "# Set up the Linear Constraint object\n",
        "constraints = LinearConstraint(A, -np.inf, b)\n",
        "\n",
        "# Solve the MILP using sparse constraints\n",
        "result = milp(c, integrality=integrality, bounds=bounds, constraints=constraints)\n",
        "\n",
        "# Print the results\n",
        "print(\"Optimal solution:\", result.x)\n",
        "print(\"Objective value:\", result.fun)\n"
      ]
    },
    {
      "cell_type": "code",
      "source": [
        "result"
      ],
      "metadata": {
        "colab": {
          "base_uri": "https://localhost:8080/"
        },
        "id": "a87y1uIwURwM",
        "outputId": "8a35bfd0-c438-4dc6-cee1-75286f2f4e46"
      },
      "execution_count": 9,
      "outputs": [
        {
          "output_type": "execute_result",
          "data": {
            "text/plain": [
              "        message: Optimization terminated successfully. (HiGHS Status 7: Optimal)\n",
              "        success: True\n",
              "         status: 0\n",
              "            fun: -14.0\n",
              "              x: [ 5.000e+00  0.000e+00  3.000e+00]\n",
              " mip_node_count: 0\n",
              " mip_dual_bound: -14.0\n",
              "        mip_gap: 0.0"
            ]
          },
          "metadata": {},
          "execution_count": 9
        }
      ]
    },
    {
      "cell_type": "code",
      "source": [],
      "metadata": {
        "id": "aq9c-mgMU2EW"
      },
      "execution_count": null,
      "outputs": []
    }
  ]
}